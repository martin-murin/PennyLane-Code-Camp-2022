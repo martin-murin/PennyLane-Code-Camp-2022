{
 "cells": [
  {
   "cell_type": "code",
   "execution_count": null,
   "id": "e0844eca-3a8b-4e1d-8991-a4e2b0bfca73",
   "metadata": {},
   "outputs": [],
   "source": [
    "import functools\n",
    "import json\n",
    "import math\n",
    "import pandas as pd\n",
    "import pennylane as qml\n",
    "import pennylane.numpy as np\n",
    "import scipy\n",
    "\n",
    "def circuit():\n",
    "    \"\"\"\n",
    "    Succession of gates that will generate the requested matrix.\n",
    "    This function does not receive any arguments nor does it return any values.\n",
    "    \"\"\"\n",
    "\n",
    "    # Put your solution here ...\n",
    "    # You only have to put U3 or CNOT gates\n",
    "\n",
    "\n",
    "# These functions are responsible for testing the solution.\n",
    "\n",
    "def run(input: str) -> str:\n",
    "    matrix = qml.matrix(circuit)().real\n",
    "\n",
    "    with qml.tape.QuantumTape() as tape:\n",
    "        circuit()\n",
    "\n",
    "    names = [op.name for op in tape.operations]\n",
    "    return json.dumps({\"matrix\": matrix.tolist(), \"gates\": names})\n",
    "\n",
    "def check(user_output: str, expected_output: str) -> str:\n",
    "    parsed_output = json.loads(user_output)\n",
    "    matrix_user = np.array(parsed_output[\"matrix\"])\n",
    "    gates = parsed_output[\"gates\"]\n",
    "\n",
    "    solution = (\n",
    "        1\n",
    "        / np.sqrt(2)\n",
    "        * np.array(\n",
    "            [\n",
    "                [1, 1, 0, 0, 0, 0, 0, 0],\n",
    "                [1, -1, 0, 0, 0, 0, 0, 0],\n",
    "                [0, 0, -1, -1, 0, 0, 0, 0],\n",
    "                [0, 0, -1, 1, 0, 0, 0, 0],\n",
    "                [0, 0, 0, 0, 1, 1, 0, 0],\n",
    "                [0, 0, 0, 0, 1, -1, 0, 0],\n",
    "                [0, 0, 0, 0, 0, 0, 1, 1],\n",
    "                [0, 0, 0, 0, 0, 0, 1, -1],\n",
    "            ]\n",
    "        )\n",
    "    )\n",
    "\n",
    "    assert np.allclose(matrix_user, solution)\n",
    "    assert len(set(gates)) == 2 and \"U3\" in gates and \"CNOT\" in gates\n",
    "\n",
    "\n",
    "test_cases = [['No input', 'No output']]\n",
    "\n",
    "for i, (input_, expected_output) in enumerate(test_cases):\n",
    "    print(f\"Running test case {i} with input '{input_}'...\")\n",
    "\n",
    "    try:\n",
    "        output = run(input_)\n",
    "\n",
    "    except Exception as exc:\n",
    "        print(f\"Runtime Error. {exc}\")\n",
    "\n",
    "    else:\n",
    "        if message := check(output, expected_output):\n",
    "            print(f\"Wrong Answer. Have: '{output}'. Want: '{expected_output}'.\")\n",
    "\n",
    "        else:\n",
    "            print(\"Correct!\")"
   ]
  },
  {
   "cell_type": "code",
   "execution_count": 4,
   "id": "8bfb7261-eb1c-417f-97da-a2cc3b4a4eb3",
   "metadata": {},
   "outputs": [],
   "source": [
    "import functools\n",
    "import json\n",
    "import math\n",
    "import pandas as pd\n",
    "import pennylane as qml\n",
    "import pennylane.numpy as np\n",
    "import scipy"
   ]
  },
  {
   "cell_type": "code",
   "execution_count": 328,
   "id": "f030838d-a721-41d0-93e8-c988c03de5e2",
   "metadata": {
    "tags": []
   },
   "outputs": [
    {
     "name": "stdout",
     "output_type": "stream",
     "text": [
      "0      0      0      0      1      0      1      0\n",
      "\n",
      "0      0      0      0      0      1      0      1\n",
      "\n",
      "0      0      -0      0      1      0      -1      0\n",
      "\n",
      "0      0      0      -0      0      1      0      -1\n",
      "\n",
      "1      0      1      0      -0      0      -0      0\n",
      "\n",
      "0      1      0      1      0      -0      0      -0\n",
      "\n",
      "1      0      -1      0      -0      0      0      0\n",
      "\n",
      "0      1      0      -1      0      -0      0      0\n",
      "\n",
      "\n",
      "0.00+0.00i    0.00+0.00i    0.00+-0.00i    0.00+0.00i    1.00+-0.00i    0.00+0.00i    1.00+-0.00i    0.00+0.00i\n",
      "\n",
      "0.00+0.00i    0.00+0.00i    0.00+0.00i    0.00+-0.00i    0.00+0.00i    1.00+-0.00i    0.00+0.00i    1.00+-0.00i\n",
      "\n",
      "0.00+0.00i    0.00+0.00i    -0.00+0.00i    0.00+0.00i    1.00+-0.00i    0.00+0.00i    -1.00+0.00i    0.00+0.00i\n",
      "\n",
      "0.00+0.00i    0.00+0.00i    0.00+0.00i    -0.00+0.00i    0.00+0.00i    1.00+-0.00i    0.00+0.00i    -1.00+0.00i\n",
      "\n",
      "1.00+0.00i    0.00+0.00i    1.00+-0.00i    0.00+0.00i    -0.00+0.00i    0.00+0.00i    -0.00+0.00i    0.00+0.00i\n",
      "\n",
      "0.00+0.00i    1.00+0.00i    0.00+0.00i    1.00+-0.00i    0.00+0.00i    -0.00+0.00i    0.00+0.00i    -0.00+0.00i\n",
      "\n",
      "1.00+0.00i    0.00+0.00i    -1.00+0.00i    0.00+0.00i    -0.00+0.00i    0.00+0.00i    0.00+-0.00i    0.00+0.00i\n",
      "\n",
      "0.00+0.00i    1.00+0.00i    0.00+0.00i    -1.00+0.00i    0.00+0.00i    -0.00+0.00i    0.00+0.00i    0.00+-0.00i\n"
     ]
    }
   ],
   "source": [
    "def circuit():\n",
    "    \"\"\"\n",
    "    qml.U3(np.pi,0,np.pi, wires = 0)\n",
    "    qml.U3(np.pi/2,0,np.pi,wires = 1)\n",
    "    qml.U3(np.pi/2,0,np.pi,wires = 2)\n",
    "    qml.CNOT(wires = [0,1])\n",
    "    qml.U3(np.pi,0,np.pi,wires = 0)\n",
    "    qml.U3(np.pi/2,0,np.pi,wires = 1)\n",
    "    \"\"\"\n",
    "    \n",
    "    qml.U3(np.pi, 0, np.pi, wires = 0)\n",
    "    qml.U3(np.pi/2,0,np.pi,wires = 1)\n",
    "    #qml.U3(np.pi/2,0,np.pi,wires = 2)\n",
    "    #qml.CNOT(wires = [0,1])\n",
    "    #qml.U3(np.pi,0,np.pi,wires = 0)\n",
    "    #qml.U3(np.pi/2,0,np.pi,wires = 1)\n",
    "    \n",
    "    #qml.CNOT(wires=[0,1])\n",
    "    #qml.CNOT(wires=[1,0])\n",
    "    #qml.CNOT(wires=[0,1])\n",
    "\n",
    "    #qml.U3(np.pi, 0, 0, wires = 2)\n",
    "    \n",
    "    #qml.CNOT(wires=[1,0])\n",
    "    #qml.CNOT(wires=[2,0])\n",
    "\n",
    "    #qml.U3(-np.pi/2, 0, 0, wires = 2)\n",
    "    #qml.CNOT(wires=[1,0])\n",
    "    #qml.U3(-np.pi/2, 0, 0, wires = 1)\n",
    "    #qml.CNOT(wires=[0,1])\n",
    "    \n",
    "    #qml.CNOT(wires=[1,2])\n",
    "    #qml.U3(np.pi/2, np.pi/2, np.pi/2, wires = 1)\n",
    " \n",
    "\n",
    "   \n",
    "matrix = qml.matrix(circuit, wire_order=[0,1,2])()\n",
    "\n",
    "print('\\n\\n'.join(['      '.join(['{0.real:1.0f}'.format(np.sqrt(2)*item) for item in row]) for row in matrix]))\n",
    "print('\\n')\n",
    "print('\\n\\n'.join(['    '.join(['{0.real:1.2f}+{0.imag:1.2f}i'.format(np.sqrt(2)*item) for item in row]) for row in matrix]))"
   ]
  },
  {
   "cell_type": "code",
   "execution_count": 37,
   "id": "8bdb3122-6221-4de6-a66f-6c40f5e84458",
   "metadata": {},
   "outputs": [
    {
     "name": "stdout",
     "output_type": "stream",
     "text": [
      "0.7071067811865475\n"
     ]
    }
   ],
   "source": [
    "print(1/np.sqrt(2))"
   ]
  },
  {
   "cell_type": "code",
   "execution_count": 204,
   "id": "197e216d-9263-4643-90b8-a8f42b2587c3",
   "metadata": {},
   "outputs": [
    {
     "data": {
      "text/plain": [
       "[-1.0,\n",
       " 6.123233995736766e-17,\n",
       " 0.7071067811865477,\n",
       " 1.2246467991473532e-16,\n",
       " 1.0,\n",
       " 0.7071067811865476]"
      ]
     },
     "execution_count": 204,
     "metadata": {},
     "output_type": "execute_result"
    }
   ],
   "source": [
    "[np.cos(np.pi), np.cos(np.pi/2), np.cos(np.pi/4), np.sin(np.pi), np.sin(np.pi/2), np.sin(np.pi/4)]"
   ]
  },
  {
   "cell_type": "code",
   "execution_count": 84,
   "id": "4d600ced-c53c-4c8e-8918-9f7570947fee",
   "metadata": {},
   "outputs": [
    {
     "data": {
      "text/plain": [
       "array([[ 1.+0.j, -0.+0.j],\n",
       "       [ 0.+0.j,  1.+0.j]])"
      ]
     },
     "execution_count": 84,
     "metadata": {},
     "output_type": "execute_result"
    }
   ],
   "source": [
    "qml.matrix(qml.U3(0,0,0,wires=0))"
   ]
  },
  {
   "cell_type": "code",
   "execution_count": 85,
   "id": "ba3086af-d6d2-4069-badd-a0fb9301c6c4",
   "metadata": {},
   "outputs": [
    {
     "data": {
      "text/plain": [
       "array([[ 0.70710678+0.j, -0.70710678+0.j],\n",
       "       [ 0.70710678+0.j,  0.70710678+0.j]])"
      ]
     },
     "execution_count": 85,
     "metadata": {},
     "output_type": "execute_result"
    }
   ],
   "source": [
    "qml.matrix(qml.U3(np.pi/2,0,0,wires=0))"
   ]
  },
  {
   "cell_type": "code",
   "execution_count": 86,
   "id": "29d106ef-887f-4ebd-9e35-ec7f9b3e44f1",
   "metadata": {},
   "outputs": [
    {
     "data": {
      "text/plain": [
       "array([[ 6.123234e-17+0.j, -1.000000e+00+0.j],\n",
       "       [ 1.000000e+00+0.j,  6.123234e-17+0.j]])"
      ]
     },
     "execution_count": 86,
     "metadata": {},
     "output_type": "execute_result"
    }
   ],
   "source": [
    "qml.matrix(qml.U3(np.pi,0,0,wires=0))"
   ]
  },
  {
   "cell_type": "code",
   "execution_count": 88,
   "id": "8f6e39fd-5408-4aac-b586-0f787e40333f",
   "metadata": {},
   "outputs": [
    {
     "data": {
      "text/plain": [
       "array([[ 1.+0.0000000e+00j, -0.+0.0000000e+00j],\n",
       "       [-0.+0.0000000e+00j, -1.+1.2246468e-16j]])"
      ]
     },
     "execution_count": 88,
     "metadata": {},
     "output_type": "execute_result"
    }
   ],
   "source": [
    "qml.matrix(qml.U3(0,np.pi,0,wires=0))"
   ]
  },
  {
   "cell_type": "code",
   "execution_count": 89,
   "id": "beaa6b91-5e3a-4cfd-b8b3-53603c0eb323",
   "metadata": {},
   "outputs": [
    {
     "data": {
      "text/plain": [
       "array([[ 1.000000e+00+0.j, -0.000000e+00+0.j],\n",
       "       [ 0.000000e+00+0.j,  6.123234e-17+1.j]])"
      ]
     },
     "execution_count": 89,
     "metadata": {},
     "output_type": "execute_result"
    }
   ],
   "source": [
    "qml.matrix(qml.U3(0,0,np.pi/2,wires=0))"
   ]
  },
  {
   "cell_type": "code",
   "execution_count": 90,
   "id": "02b40a55-8cb1-4bf3-8c50-5a2b7e050c50",
   "metadata": {},
   "outputs": [
    {
     "data": {
      "text/plain": [
       "array([[ 1.+0.0000000e+00j,  0.-0.0000000e+00j],\n",
       "       [ 0.+0.0000000e+00j, -1.+1.2246468e-16j]])"
      ]
     },
     "execution_count": 90,
     "metadata": {},
     "output_type": "execute_result"
    }
   ],
   "source": [
    "qml.matrix(qml.U3(0,0,np.pi,wires=0))"
   ]
  },
  {
   "cell_type": "code",
   "execution_count": null,
   "id": "613fd96c-e311-4cc3-a742-dc6072c3e04b",
   "metadata": {},
   "outputs": [],
   "source": []
  }
 ],
 "metadata": {
  "kernelspec": {
   "display_name": "PennyLane",
   "language": "python",
   "name": "pennylane"
  },
  "language_info": {
   "codemirror_mode": {
    "name": "ipython",
    "version": 3
   },
   "file_extension": ".py",
   "mimetype": "text/x-python",
   "name": "python",
   "nbconvert_exporter": "python",
   "pygments_lexer": "ipython3",
   "version": "3.9.13"
  }
 },
 "nbformat": 4,
 "nbformat_minor": 5
}
