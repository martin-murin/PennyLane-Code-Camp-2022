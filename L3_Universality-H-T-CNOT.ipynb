{
 "cells": [
  {
   "cell_type": "code",
   "execution_count": 14,
   "id": "a8b49e53-47ec-46f3-a90a-a380a2222917",
   "metadata": {},
   "outputs": [
    {
     "name": "stdout",
     "output_type": "stream",
     "text": [
      "Running test case 0 with input 'No input'...\n",
      "Correct!\n"
     ]
    }
   ],
   "source": [
    "import functools\n",
    "import json\n",
    "import math\n",
    "import pandas as pd\n",
    "import pennylane as qml\n",
    "import pennylane.numpy as np\n",
    "import scipy\n",
    "\n",
    "def U():\n",
    "    \"\"\"\n",
    "    This quantum function will simply contain H, T and CNOT gates.\n",
    "    It will not return any value.\n",
    "    \"\"\"\n",
    "    # Put your solution here #\n",
    "    qml.Hadamard(wires = 1)\n",
    "    qml.T(wires = 0)\n",
    "    qml.T(wires= 1)\n",
    "    qml.CNOT(wires = [0,1])\n",
    "    for i in range(3):\n",
    "        qml.T(wires = 1)\n",
    "    qml.CNOT(wires = [0,1])\n",
    "    qml.Hadamard(wires = 1)\n",
    "    qml.CNOT(wires = [1,0])\n",
    "    \n",
    "\n",
    "dev = qml.device(\"default.qubit\", wires=2)\n",
    "\n",
    "@qml.qnode(dev)\n",
    "def circuit():\n",
    "    \"\"\"\n",
    "    Main circuit given in the statement, here the operators you have defined in U will be embedded.\n",
    "    \"\"\"\n",
    "\n",
    "    qml.CNOT(wires=[0, 1])\n",
    "\n",
    "    qml.Hadamard(wires=0)\n",
    "    qml.Hadamard(wires=1)\n",
    "\n",
    "    U()\n",
    "\n",
    "    qml.CNOT(wires=[1, 0])\n",
    "\n",
    "    U()\n",
    "\n",
    "    qml.Hadamard(wires=0)\n",
    "    qml.Hadamard(wires=1)\n",
    "\n",
    "    return qml.state()\n",
    "\n",
    "\n",
    "# These functions are responsible for testing the solution.\n",
    "\n",
    "def run(input: str) -> str:\n",
    "    matrix = qml.matrix(circuit)().real\n",
    "\n",
    "    with qml.tape.QuantumTape() as tape:\n",
    "        U()\n",
    "\n",
    "    names = [op.name for op in tape.operations]\n",
    "    return json.dumps({\"matrix\": matrix.tolist(), \"gates\": names})\n",
    "\n",
    "def check(user_output: str, expected_output: str) -> str:\n",
    "\n",
    "    parsed_output = json.loads(user_output)\n",
    "    matrix_user = np.array(parsed_output[\"matrix\"])\n",
    "    gates = parsed_output[\"gates\"]\n",
    "\n",
    "    assert np.allclose(matrix_user, qml.matrix(qml.SWAP)(wires=[0, 1]))\n",
    "    assert (\n",
    "        len(set(gates)) == 3\n",
    "        and \"Hadamard\" in gates\n",
    "        and \"CNOT\" in gates\n",
    "        and \"T\" in gates\n",
    "    )\n",
    "\n",
    "\n",
    "test_cases = [['No input', 'No output']]\n",
    "\n",
    "for i, (input_, expected_output) in enumerate(test_cases):\n",
    "    print(f\"Running test case {i} with input '{input_}'...\")\n",
    "\n",
    "    try:\n",
    "        output = run(input_)\n",
    "\n",
    "    except Exception as exc:\n",
    "        print(f\"Runtime Error. {exc}\")\n",
    "\n",
    "    else:\n",
    "        if message := check(output, expected_output):\n",
    "            print(f\"Wrong Answer. Have: '{output}'. Want: '{expected_output}'.\")\n",
    "\n",
    "        else:\n",
    "            print(\"Correct!\")"
   ]
  },
  {
   "cell_type": "code",
   "execution_count": 12,
   "id": "dfd8a36f-15a8-4ef6-96e6-fe717646c129",
   "metadata": {},
   "outputs": [],
   "source": [
    "def U():\n",
    "    \"\"\"\n",
    "    This quantum function will simply contain H, T and CNOT gates.\n",
    "    It will not return any value.\n",
    "    \"\"\"\n",
    "    qml.Hadamard(wires = 1)\n",
    "    qml.T(wires = 0)\n",
    "    qml.T(wires= 1)\n",
    "    qml.CNOT(wires = [0,1])\n",
    "    for i in range(3):\n",
    "        qml.T(wires = 1)\n",
    "    qml.CNOT(wires = [0,1])\n",
    "    qml.Hadamard(wires = 1)\n",
    "    qml.CNOT(wires = [1,0])\n",
    "\n",
    "    #return qml.state()"
   ]
  },
  {
   "cell_type": "code",
   "execution_count": 13,
   "id": "7fbf7324-b49c-4e97-9f26-97576006f2ae",
   "metadata": {},
   "outputs": [
    {
     "data": {
      "text/plain": [
       "array([[-2.23711432e-17+1.57009246e-16j,  0.00000000e+00+0.00000000e+00j,\n",
       "         1.00000000e+00-1.57009246e-16j,  0.00000000e+00+0.00000000e+00j],\n",
       "       [ 0.00000000e+00+0.00000000e+00j, -5.00000000e-01+5.00000000e-01j,\n",
       "         0.00000000e+00+0.00000000e+00j, -5.00000000e-01-5.00000000e-01j],\n",
       "       [ 0.00000000e+00+0.00000000e+00j, -5.00000000e-01-5.00000000e-01j,\n",
       "         0.00000000e+00+0.00000000e+00j, -5.00000000e-01+5.00000000e-01j],\n",
       "       [ 1.00000000e+00-1.57009246e-16j,  0.00000000e+00+0.00000000e+00j,\n",
       "        -2.23711432e-17+1.57009246e-16j,  0.00000000e+00+0.00000000e+00j]])"
      ]
     },
     "execution_count": 13,
     "metadata": {},
     "output_type": "execute_result"
    }
   ],
   "source": [
    "qml.matrix(U)()"
   ]
  },
  {
   "cell_type": "code",
   "execution_count": null,
   "id": "22539486-e917-43d3-a1bd-5632464e65c9",
   "metadata": {},
   "outputs": [],
   "source": []
  }
 ],
 "metadata": {
  "kernelspec": {
   "display_name": "PennyLane",
   "language": "python",
   "name": "pennylane"
  },
  "language_info": {
   "codemirror_mode": {
    "name": "ipython",
    "version": 3
   },
   "file_extension": ".py",
   "mimetype": "text/x-python",
   "name": "python",
   "nbconvert_exporter": "python",
   "pygments_lexer": "ipython3",
   "version": "3.9.13"
  }
 },
 "nbformat": 4,
 "nbformat_minor": 5
}
